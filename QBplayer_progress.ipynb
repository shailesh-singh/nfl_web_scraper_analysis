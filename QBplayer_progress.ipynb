{
 "cells": [
  {
   "cell_type": "markdown",
   "metadata": {},
   "source": [
    "#Quarter Back Analysis using PySpark\n",
    "\n",
    "##What it does:\n",
    "- Extracts CSV files from folder fbl_players and loads it into an RDD ([Resilient Distributed Datasets](https://spark.apache.org/docs/1.6.0/api/java/org/apache/spark/rdd/RDD.html))\n",
    "- Converts RDD to DataFrame for SparkSQL Queries. [More info](https://spark.apache.org/docs/1.5.2/api/python/pyspark.sql.html#pyspark.sql.DataFrame)"
   ]
  },
  {
   "cell_type": "code",
   "execution_count": 2,
   "metadata": {
    "collapsed": false
   },
   "outputs": [],
   "source": [
    "from pyspark.sql.types import *\n",
    "\n",
    "\n",
    "#Extract CSV files from folder and store as RDD\n",
    "players = sc.textFile(\"fbl_players/QB*.csv\")\n",
    "\n",
    "#Create fields/column headers for data frame\n",
    "fields =[\n",
    "    StructField(\"player\", StringType(), True),\n",
    "    StructField(\"opposition\", StringType(), True),\n",
    "    StructField(\"passing_yds\",IntegerType(),True),\n",
    "    StructField(\"passing_td\",IntegerType(),True),\n",
    "    StructField(\"passing_int\",IntegerType(),True),\n",
    "    StructField(\"rushing_yds\",IntegerType(),True),\n",
    "    StructField(\"rushing_td\",IntegerType(),True),\n",
    "    StructField(\"receving_yds\",IntegerType(),True),\n",
    "    StructField(\"receiving_td\",IntegerType(),True),\n",
    "    StructField(\"misc_fumTD\",IntegerType(),True),\n",
    "    StructField(\"misc_2pt\",IntegerType(),True),\n",
    "    StructField(\"fum_lost\",IntegerType(),True),\n",
    "    StructField(\"fantasy_points\",FloatType(),True),\n",
    "    StructField(\"week\",IntegerType(),True),\n",
    "    StructField(\"game_year\",IntegerType(),True),\n",
    "]\n",
    "\n",
    "#Define schema with column headers for data frames\n",
    "schema = StructType(fields)\n",
    "\n",
    "#RDD has data from csv file where 0 is represented by '-'\n",
    "#map allows the replacement of the '-' with 0 then transforms numerical values from character to integer values\n",
    "players =  players.map(lambda a: a.replace(\"-\",\"0\")).map(lambda a: a.split(\",\")).map(lambda a: (a[0],a[1],int(a[2]),int(a[3]),int(a[4]),int(a[5]),int(a[6]),int(a[7]),int(a[8]),int(a[9]),int(a[10]),int(a[11]),float(a[12]),int(a[13]),int(a[14])))\n",
    "\n",
    "#Create Data frame with Schema and RDD \n",
    "playersDF = sqlContext.createDataFrame(players,schema)\n",
    "\n",
    "#Register temporary table for SparkSQL to perform SQL queries\n",
    "playersDF.registerTempTable(\"players\")"
   ]
  },
  {
   "cell_type": "code",
   "execution_count": 3,
   "metadata": {
    "collapsed": false
   },
   "outputs": [
    {
     "name": "stdout",
     "output_type": "stream",
     "text": [
      "+------------------+-----------------+\n",
      "|            player|total_passing_yds|\n",
      "+------------------+-----------------+\n",
      "|        Drew Brees|            11730|\n",
      "|    Peyton Manning|            11728|\n",
      "|         Matt Ryan|            10960|\n",
      "|     Philip Rivers|            10881|\n",
      "|  Matthew Stafford|            10517|\n",
      "|         Tom Brady|            10151|\n",
      "|Ben Roethlisberger|            10125|\n",
      "|       Eli Manning|             9834|\n",
      "|       Andrew Luck|             9648|\n",
      "|        Joe Flacco|             9503|\n",
      "|       Andy Dalton|             9452|\n",
      "|    Ryan Tannehill|             9304|\n",
      "|     Aaron Rodgers|             8408|\n",
      "|    Russell Wilson|             8265|\n",
      "|        Alex Smith|             8151|\n",
      "|         Tony Romo|             8084|\n",
      "|  Colin Kaepernick|             7895|\n",
      "|        Jay Cutler|             7664|\n",
      "|     Carson Palmer|             7637|\n",
      "|        Cam Newton|             7584|\n",
      "+------------------+-----------------+\n",
      "\n",
      "+----------------+----------+-----------+-----------+---------+----+\n",
      "|          player|opposition|passing_yds|rushing_yds|game_year|week|\n",
      "+----------------+----------+-----------+-----------+---------+----+\n",
      "|   Blake Bortles|       CAR|        183|         26|     2015|   1|\n",
      "|   Blake Bortles|       MIA|        273|         27|     2015|   2|\n",
      "|   Blake Bortles|       @NE|        242|          7|     2015|   3|\n",
      "|   Blake Bortles|      @IND|        298|         31|     2015|   4|\n",
      "|   Blake Bortles|       @TB|        303|         21|     2015|   5|\n",
      "|   Blake Bortles|       HOU|        331|         37|     2015|   6|\n",
      "|Colin Kaepernick|       MIN|        165|         41|     2015|   1|\n",
      "|Colin Kaepernick|      @PIT|        335|         51|     2015|   2|\n",
      "|Colin Kaepernick|      @ARI|         67|         46|     2015|   3|\n",
      "|Colin Kaepernick|        GB|        160|         57|     2015|   4|\n",
      "|Colin Kaepernick|      @NYG|        262|         23|     2015|   5|\n",
      "|Colin Kaepernick|       BAL|        340|         10|     2015|   6|\n",
      "|  Russell Wilson|      @STL|        251|         31|     2015|   1|\n",
      "|  Russell Wilson|       @GB|        206|         78|     2015|   2|\n",
      "|  Russell Wilson|       CHI|        235|         28|     2015|   3|\n",
      "|  Russell Wilson|       DET|        287|         40|     2015|   4|\n",
      "|  Russell Wilson|      @CIN|        213|         21|     2015|   5|\n",
      "|  Russell Wilson|       CAR|        241|         53|     2015|   6|\n",
      "|    Tyrod Taylor|       IND|        195|         41|     2015|   1|\n",
      "|    Tyrod Taylor|        NE|        242|         43|     2015|   2|\n",
      "+----------------+----------+-----------+-----------+---------+----+\n",
      "\n",
      "+--------------+----------+-----------+-----------+---------+----+\n",
      "|        player|opposition|passing_yds|rushing_yds|game_year|week|\n",
      "+--------------+----------+-----------+-----------+---------+----+\n",
      "|Russell Wilson|      @STL|        251|         31|     2015|   1|\n",
      "|Russell Wilson|       @GB|        206|         78|     2015|   2|\n",
      "|Russell Wilson|       CHI|        235|         28|     2015|   3|\n",
      "|Russell Wilson|       DET|        287|         40|     2015|   4|\n",
      "|Russell Wilson|      @CIN|        213|         21|     2015|   5|\n",
      "|Russell Wilson|       CAR|        241|         53|     2015|   6|\n",
      "+--------------+----------+-----------+-----------+---------+----+\n",
      "\n"
     ]
    }
   ],
   "source": [
    "#Sample Queries to analyze data using SparkSQL and temporary table players\n",
    "\n",
    "sqlContext.sql(\"\"\"\n",
    "Select player, sum(passing_yds) as total_passing_yds \n",
    "from players \n",
    "group by player order by total_passing_yds desc\n",
    "\"\"\").show()\n",
    "\n",
    "player_name = \"Russell Wilson\"\n",
    "target_qb = [\"'Russell Wilson'\",\"'Blake Bortles'\",\"'Colin Kaepernick'\",\"'Tyrod Taylor'\"]\n",
    "\n",
    "sqlContext.sql(\"Select player, opposition, passing_yds,rushing_yds, \\\n",
    "  game_year, week from players where player in ({}) and game_year=2015\\\n",
    "  order by player, week\".format(\",\".join(target_qb))).show()\n",
    "\n",
    "\n",
    "sqlContext.sql(\"Select player, opposition, passing_yds,rushing_yds, \\\n",
    "  game_year, week from players where player like '%{}%' and game_year=2015\\\n",
    "  order by player, week\".format(player_name)).show()\n",
    "\n",
    "#Extract Russell Wilson's data for plot\n",
    "player_stats = sqlContext.sql(\"Select player, opposition, passing_yds,rushing_yds, \\\n",
    "  game_year, week from players where player like '%{}%' and game_year=2015\\\n",
    "  order by player, week\".format(player_name))"
   ]
  },
  {
   "cell_type": "code",
   "execution_count": 6,
   "metadata": {
    "collapsed": false
   },
   "outputs": [
    {
     "data": {
      "image/png": "[encoded data removed]",
      "text/plain": [
       "<matplotlib.figure.Figure at 0x3fb3d50>"
      ]
     },
     "metadata": {},
     "output_type": "display_data"
    }
   ],
   "source": [
    "from matplotlib import pyplot as plt\n",
    "\n",
    "#Extract data from SQL queries for matlibplot\n",
    "x = player_stats.map(lambda a: a.week).collect() \n",
    "y = player_stats.map(lambda a: a.passing_yds).collect()\n",
    "y2 = player_stats.map(lambda a: a.rushing_yds).collect()\n",
    "\n",
    "fig1 = plt.figure()\n",
    "plt.title(player_name)\n",
    "plt.xlabel(\"weeks of game year: 2015\")\n",
    "plt.ylabel(\"Yards\")\n",
    "plt.plot(x,y, label=\"Passing Yards\")\n",
    "plt.plot(x,y2, label=\"Rushing Yards\")\n",
    "plt.legend(bbox_to_anchor=(1.05, 1), loc=2, borderaxespad=0.)\n",
    "fig1.show()"
   ]
  },
  {
   "cell_type": "code",
   "execution_count": null,
   "metadata": {
    "collapsed": true
   },
   "outputs": [],
   "source": []
  }
 ],
 "metadata": {
  "kernelspec": {
   "display_name": "Python 2",
   "language": "python",
   "name": "python2"
  },
  "language_info": {
   "codemirror_mode": {
    "name": "ipython",
    "version": 2
   },
   "file_extension": ".py",
   "mimetype": "text/x-python",
   "name": "python",
   "nbconvert_exporter": "python",
   "pygments_lexer": "ipython2",
   "version": "2.7.6"
  }
 },
 "nbformat": 4,
 "nbformat_minor": 0
}
